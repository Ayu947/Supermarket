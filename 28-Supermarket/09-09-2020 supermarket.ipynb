{
 "cells": [
  {
   "cell_type": "code",
   "execution_count": 1,
   "metadata": {},
   "outputs": [],
   "source": [
    "import shelve\n"
   ]
  },
  {
   "cell_type": "markdown",
   "metadata": {},
   "source": [
    "    "
   ]
  },
  {
   "cell_type": "code",
   "execution_count": 2,
   "metadata": {},
   "outputs": [],
   "source": [
    "db = shelve.open('Supermarket/data.db',writeback=True)"
   ]
  },
  {
   "cell_type": "code",
   "execution_count": 10,
   "metadata": {},
   "outputs": [],
   "source": [
    "stationary={'pen': {'brand': {'link': {'price': [5, 10], 'stock': [200, 100]},\n",
    "   'fine': {'price': [5, 10], 'stock': [250, 150]}}},\n",
    " 'register': {'brand': {'classmate': {'price': [50, 80], 'stock': [100, 50]},\n",
    "   'icon': {'price': [50, 60], 'stock': [200, 80]}}},\n",
    " 'books': {'class VI': {'price': 500, 'stock': 20},\n",
    "  'class VII': {'price': 600, 'stock': 20},\n",
    "  'class VIII': {'price': 700, 'stock': 20},\n",
    "  'class IX': {'price': 800, 'stock': 20},\n",
    "  'class X': {'price': 900, 'stock': 20}}}"
   ]
  },
  {
   "cell_type": "code",
   "execution_count": 3,
   "metadata": {
    "scrolled": true
   },
   "outputs": [
    {
     "data": {
      "text/plain": [
       "{'pen': {'brand': {'link': {'price': [5, 10], 'stock': [200, 100]},\n",
       "   'fine': {'price': [5, 10], 'stock': [250, 150]}}},\n",
       " 'register': {'brand': {'classmate': {'price': [50, 80], 'stock': [100, 50]},\n",
       "   'icon': {'price': [50, 60], 'stock': [200, 80]}}},\n",
       " 'books': {'class VI': {'price': 500, 'stock': 20},\n",
       "  'class VII': {'price': 600, 'stock': 20},\n",
       "  'class VIII': {'price': 700, 'stock': 20},\n",
       "  'class IX': {'price': 800, 'stock': 20},\n",
       "  'class X': {'price': 900, 'stock': 20}}}"
      ]
     },
     "execution_count": 3,
     "metadata": {},
     "output_type": "execute_result"
    }
   ],
   "source": [
    "db['stationary']"
   ]
  },
  {
   "cell_type": "code",
   "execution_count": 4,
   "metadata": {},
   "outputs": [
    {
     "data": {
      "text/plain": [
       "{'brand': {'link': {'price': [5, 10], 'stock': [200, 100]},\n",
       "  'fine': {'price': [5, 10], 'stock': [250, 150]}}}"
      ]
     },
     "execution_count": 4,
     "metadata": {},
     "output_type": "execute_result"
    }
   ],
   "source": [
    "db['stationary']['pen']"
   ]
  },
  {
   "cell_type": "code",
   "execution_count": 5,
   "metadata": {},
   "outputs": [
    {
     "data": {
      "text/plain": [
       "{'brand': {'classmate': {'price': [50, 80], 'stock': [100, 50]},\n",
       "  'icon': {'price': [50, 60], 'stock': [200, 80]}}}"
      ]
     },
     "execution_count": 5,
     "metadata": {},
     "output_type": "execute_result"
    }
   ],
   "source": [
    "db['stationary']['register']"
   ]
  },
  {
   "cell_type": "code",
   "execution_count": 6,
   "metadata": {},
   "outputs": [
    {
     "data": {
      "text/plain": [
       "{'class VI': {'price': 500, 'stock': 20},\n",
       " 'class VII': {'price': 600, 'stock': 20},\n",
       " 'class VIII': {'price': 700, 'stock': 20},\n",
       " 'class IX': {'price': 800, 'stock': 20},\n",
       " 'class X': {'price': 900, 'stock': 20}}"
      ]
     },
     "execution_count": 6,
     "metadata": {},
     "output_type": "execute_result"
    }
   ],
   "source": [
    "db['stationary']['books']"
   ]
  },
  {
   "cell_type": "markdown",
   "metadata": {},
   "source": [
    "## Supermart Application"
   ]
  },
  {
   "cell_type": "code",
   "execution_count": 19,
   "metadata": {},
   "outputs": [],
   "source": []
  },
  {
   "cell_type": "code",
   "execution_count": 50,
   "metadata": {},
   "outputs": [
    {
     "name": "stdout",
     "output_type": "stream",
     "text": [
      "Writing supermarket.py\n"
     ]
    }
   ],
   "source": [
    "%%writefile supermarket.py\n",
    "import shelve\n",
    "import time\n",
    "import random\n",
    "c=0\n",
    "l = ['Catagory\\tProduct\\tBrand\\tQt.\\tRate/Qt.\\tTotal']\n",
    "def main():\n",
    "    global c\n",
    "    if c==0:\n",
    "        print('***WELCOME TO OUR APPLICATION***'.center(120,' '))\n",
    "    c+=1\n",
    "    \n",
    "    s = '\\n1.Stationary\\n2.Electronics\\n3.Cosmatic\\n4.Chcocolate\\n5.Exit'\n",
    "    print(s)\n",
    "    ch=int(input('Enter choice from above: '))\n",
    "    if ch==1:\n",
    "        stationary()\n",
    "    elif ch==2:\n",
    "        electronics()\n",
    "    elif ch==3:\n",
    "        cosmatic()\n",
    "    elif ch==4:\n",
    "        chocolate()\n",
    "    else:\n",
    "        exit()\n",
    "        \n",
    "def exit():\n",
    "    l1=[]\n",
    "    for i in l:\n",
    "        l1.append(i.split('\\t'))\n",
    "    for i in l1:\n",
    "        #print(i)\n",
    "        for j in i:\n",
    "            print(f\"{j :>15}\",end='\\t')\n",
    "\n",
    "        print()\n",
    "        print('_'*100)\n",
    "\n",
    "    sum1=0    \n",
    "    for i in l1[1:]:\n",
    "        sum1+=int(i[-1])\n",
    "    \n",
    "    print(f\"Grand Total: \".ljust(90,' '),sum1)\n",
    "    print('Thanks for using our service')\n",
    "    for i in '..........Exciting..........':\n",
    "        print(i,end='')\n",
    "        time.sleep(0.08)\n",
    "def stationary():\n",
    "    \n",
    "    db = shelve.open('Supermarket/data.db',writeback=True)\n",
    "    count=1\n",
    "    for i in db['stationary'].keys():\n",
    "        print(f'{count}.{i}')\n",
    "        count+=1\n",
    "    print(f\"{count}.main\")\n",
    "    \n",
    "    ch = int(input('Enter choice from above: '))\n",
    "    if ch==1:\n",
    "        s = '1.Link\\n2.Fine'\n",
    "        print(s)\n",
    "        ch=int(input('select pen from above: '))\n",
    "        if ch==1:\n",
    "            print('Available Prices are:',db['stationary']['pen']['brand']['link']['price'])\n",
    "            price = int(input('Select from available Price: '))\n",
    "            if price in db['stationary']['pen']['brand']['link']['price']:\n",
    "                index1 = db['stationary']['pen']['brand']['link']['price'].index(price)\n",
    "                qt=int(input('Enter Quantity'))\n",
    "                db['stationary']['pen']['brand']['link']['stock'][index1]-=qt\n",
    "                l.append(f\"Stationary\\tPen\\tLink\\t{qt}\\t{price}\\t{qt*price}\")\n",
    "                db.close()\n",
    "                print(f'You purchased {qt} quantity of Pen')\n",
    "                stationary()\n",
    "                \n",
    "            else:\n",
    "                print('Price Not Avaiable')\n",
    "                stationary()\n",
    "        \n",
    "        \n",
    "        \n",
    "        elif ch==2:\n",
    "            print('Available Prices are:',db['stationary']['pen']['brand']['fine']['price'])\n",
    "            price = int(input('Select from available Price: '))\n",
    "            if price in db['stationary']['pen']['brand']['fine']['price']:\n",
    "                \n",
    "                index1 = db['stationary']['pen']['brand']['fine']['price'].index(price)\n",
    "                qt=int(input('Enter Quantity'))\n",
    "                db['stationary']['pen']['brand']['fine']['stock'][index1]-=qt\n",
    "                l.append(f\"Stationary\\tPen\\tFine\\t{qt}\\t{price}\\t{qt*price}\")\n",
    "                db.close()\n",
    "                print(f'You purchased {qt} quantity of Pen')\n",
    "                stationary()\n",
    "                \n",
    "            else:\n",
    "                print('Price Not Avaiable')\n",
    "                stationary()\n",
    "                \n",
    "                \n",
    "        else:\n",
    "            print('No such brand Avialable')\n",
    "            stationary()\n",
    "    \n",
    "    \n",
    "    \n",
    "    \n",
    "    \n",
    "    \n",
    "    elif ch==2:\n",
    "        s = '1.Classmate\\n2.Icon'\n",
    "        print(s)\n",
    "        ch=int(input('select Register from above: '))\n",
    "        if ch==1:\n",
    "            print('Available Prices are:',db['stationary']['register']['brand']['classmate']['price'])\n",
    "            price = int(input('Select from available Price: '))\n",
    "            if price in db['stationary']['register']['brand']['classmate']['price']:\n",
    "                index1 = db['stationary']['register']['brand']['classmate']['price'].index(price)\n",
    "                qt=int(input('Enter Quantity'))\n",
    "                db['stationary']['register']['brand']['classmate']['stock'][index1]-=qt\n",
    "                l.append(f\"Stationary\\tRegister\\tClassmate\\t{qt}\\t{price}\\t{qt*price}\")\n",
    "                db.close()\n",
    "                print(f'You purchased {qt} quantity of register')\n",
    "                stationary()\n",
    "                \n",
    "            else:\n",
    "                print('Price Not Avaiable')\n",
    "                stationary()\n",
    "        \n",
    "        \n",
    "        \n",
    "        elif ch==2:\n",
    "            print('Available Prices are:',db['stationary']['register']['brand']['icon']['price'])\n",
    "            price = int(input('Select from available Price: '))\n",
    "            if price in db['stationary']['register']['brand']['icon']['price']:\n",
    "                \n",
    "                index1 = db['stationary']['register']['brand']['icon']['price'].index(price)\n",
    "                qt=int(input('Enter Quantity'))\n",
    "                db['stationary']['register']['brand']['icon']['stock'][index1]-=qt\n",
    "                l.append(f\"Stationary\\tRegister\\tIcon\\t{qt}\\t{price}\\t{qt*price}\")\n",
    "                db.close()\n",
    "                print(f'You purchased {qt} quantity of register')\n",
    "                stationary()\n",
    "                \n",
    "            else:\n",
    "                print('Price Not Avaiable')\n",
    "                stationary()\n",
    "                \n",
    "                \n",
    "        else:\n",
    "            print('No such brand Avialable')\n",
    "            stationary()\n",
    "    elif ch==3:\n",
    "        count=1\n",
    "        for i in db['stationary']['books'].keys():\n",
    "            print(f\"{count}.{i}\")\n",
    "            count+=1\n",
    "        print(f\"{count}.main\")\n",
    "        \n",
    "        ch = int(input('Select the class from above for which you want books: '))\n",
    "        if ch==1:\n",
    "            qt = int(input('Enter the quantity: '))\n",
    "            db['stationary']['books']['class VI']['stock']-=qt\n",
    "            print(f'You select {qt} quantity of Books')\n",
    "            price=db['stationary']['books']['class VI']['price']\n",
    "            l.append(f\"Stationary\\tBook\\tNA\\t{qt}\\t{price}\\t{qt*price}\")\n",
    "            db.close()\n",
    "            stationary()\n",
    "        elif ch==2:\n",
    "            qt = int(input('Enter the quantity: '))\n",
    "            db['stationary']['books']['class VII']['stock']-=qt\n",
    "            print(f'You select {qt} quantity of Books')\n",
    "            price=db['stationary']['books']['class VII']['price']\n",
    "            l.append(f\"Stationary\\tBook\\tNA\\t{qt}\\t{price}\\t{qt*price}\")\n",
    "            db.close()\n",
    "            stationary()\n",
    "        elif ch==3:\n",
    "            qt = int(input('Enter the quantity: '))\n",
    "            db['stationary']['books']['class VIII']['stock']-=qt\n",
    "            print(f'You select {qt} quantity of Books')\n",
    "            price=db['stationary']['books']['class VIII']['price']\n",
    "            l.append(f\"Stationary\\tBook\\tNA\\t{qt}\\t{price}\\t{qt*price}\")\n",
    "            db.close()\n",
    "            stationary()\n",
    "        elif ch==4:\n",
    "            qt = int(input('Enter the quantity: '))\n",
    "            db['stationary']['books']['class IX']['stock']-=qt\n",
    "            print(f'You select {qt} quantity of Books')\n",
    "            price=db['stationary']['books']['class IX']['price']\n",
    "            l.append(f\"Stationary\\tBook\\tNA\\t{qt}\\t{price}\\t{qt*price}\")\n",
    "            db.close()\n",
    "            stationary()\n",
    "\n",
    "        elif ch==5:\n",
    "            qt = int(input('Enter the quantity: '))\n",
    "            db['stationary']['books']['class X']['stock']-=qt\n",
    "            print(f'You select {qt} quantity of Books')\n",
    "            price=db['stationary']['books']['class X']['price']\n",
    "            l.append(f\"Stationary\\tBook\\tNA\\t{qt}\\t{price}\\t{qt*price}\")\n",
    "            db.close()\n",
    "            stationary()\n",
    "\n",
    "        else:\n",
    "            main()\n",
    "        \n",
    "    else:\n",
    "        main()\n",
    "        \n",
    "        \n",
    "main()"
   ]
  },
  {
   "cell_type": "code",
   "execution_count": 49,
   "metadata": {},
   "outputs": [
    {
     "name": "stdout",
     "output_type": "stream",
     "text": [
      "                                            ***WELCOME TO OUR APPLICATION***                                            \n",
      "\n",
      "1.Stationary\n",
      "2.Electronics\n",
      "3.Cosmatic\n",
      "4.Chcocolate\n",
      "5.Exit\n",
      "Enter choice from above: 1\n",
      "1.pen\n",
      "2.register\n",
      "3.books\n",
      "4.main\n",
      "Enter choice from above: 1\n",
      "1.Link\n",
      "2.Fine\n",
      "select pen from above: 1\n",
      "Available Prices are: [5, 10]\n",
      "Select from available Price: 5\n",
      "Enter Quantity3\n",
      "You purchased 3 quantity of Pen\n",
      "1.pen\n",
      "2.register\n",
      "3.books\n",
      "4.main\n",
      "Enter choice from above: 2\n",
      "1.Classmate\n",
      "2.Icon\n",
      "select Register from above: 1\n",
      "Available Prices are: [50, 80]\n",
      "Select from available Price: 50\n",
      "Enter Quantity2\n",
      "You purchased 2 quantity of register\n",
      "1.pen\n",
      "2.register\n",
      "3.books\n",
      "4.main\n",
      "Enter choice from above: 3\n",
      "1.class VI\n",
      "2.class VII\n",
      "3.class VIII\n",
      "4.class IX\n",
      "5.class X\n",
      "6.main\n",
      "Select the class from above for which you want books: 5\n",
      "Enter the quantity: 2\n",
      "You select 2 quantity of Books\n",
      "1.pen\n",
      "2.register\n",
      "3.books\n",
      "4.main\n",
      "Enter choice from above: 4\n",
      "\n",
      "1.Stationary\n",
      "2.Electronics\n",
      "3.Cosmatic\n",
      "4.Chcocolate\n",
      "5.Exit\n",
      "Enter choice from above: 5\n",
      "       Catagory\t        Product\t          Brand\t            Qt.\t       Rate/Qt.\t          Total\t\n",
      "____________________________________________________________________________________________________\n",
      "     Stationary\t            Pen\t           Link\t              3\t              5\t             15\t\n",
      "____________________________________________________________________________________________________\n",
      "     Stationary\t       Register\t      Classmate\t              2\t             50\t            100\t\n",
      "____________________________________________________________________________________________________\n",
      "     Stationary\t           Book\t             NA\t              2\t            900\t           1800\t\n",
      "____________________________________________________________________________________________________\n",
      "Grand Total:                                                                               1915\n",
      "Thanks for using our service\n",
      "..........Exciting.........."
     ]
    }
   ],
   "source": [
    "main()"
   ]
  },
  {
   "cell_type": "code",
   "execution_count": null,
   "metadata": {},
   "outputs": [],
   "source": []
  }
 ],
 "metadata": {
  "kernelspec": {
   "display_name": "Python 3",
   "language": "python",
   "name": "python3"
  },
  "language_info": {
   "codemirror_mode": {
    "name": "ipython",
    "version": 3
   },
   "file_extension": ".py",
   "mimetype": "text/x-python",
   "name": "python",
   "nbconvert_exporter": "python",
   "pygments_lexer": "ipython3",
   "version": "3.7.3"
  }
 },
 "nbformat": 4,
 "nbformat_minor": 2
}
